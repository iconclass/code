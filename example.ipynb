{
 "cells": [
  {
   "cell_type": "markdown",
   "id": "91979f04",
   "metadata": {},
   "source": [
    "# Install the ICONCLASS Python package"
   ]
  },
  {
   "cell_type": "code",
   "execution_count": null,
   "id": "9b329718",
   "metadata": {},
   "outputs": [],
   "source": [
    "!pip install iconclass"
   ]
  },
  {
   "cell_type": "markdown",
   "id": "9ad42968",
   "metadata": {},
   "source": [
    "Initialize the library"
   ]
  },
  {
   "cell_type": "code",
   "execution_count": null,
   "id": "0f621a84",
   "metadata": {},
   "outputs": [],
   "source": [
    "from iconclass import init\n",
    "\n",
    "ic = init()"
   ]
  },
  {
   "cell_type": "markdown",
   "id": "0209bf09",
   "metadata": {},
   "source": [
    "Lookup a notation"
   ]
  },
  {
   "cell_type": "code",
   "execution_count": null,
   "id": "2ec12280",
   "metadata": {},
   "outputs": [],
   "source": [
    "a = ic[\"53A2\"]"
   ]
  },
  {
   "cell_type": "markdown",
   "id": "aed2b439",
   "metadata": {},
   "source": [
    "Fetch the texts and representations"
   ]
  },
  {
   "cell_type": "code",
   "execution_count": null,
   "id": "b5c50902",
   "metadata": {},
   "outputs": [],
   "source": [
    "print(a)\n",
    "print(repr(a))\n",
    "print(a())\n",
    "print(a('de'))\n",
    "\n"
   ]
  },
  {
   "cell_type": "markdown",
   "id": "d46d6fe9",
   "metadata": {},
   "source": [
    "Show the children of a notation"
   ]
  },
  {
   "cell_type": "code",
   "execution_count": null,
   "id": "227e0052",
   "metadata": {},
   "outputs": [],
   "source": [
    "for child in a:\n",
    "    print(child('it'))"
   ]
  },
  {
   "cell_type": "markdown",
   "id": "7671b088",
   "metadata": {},
   "source": [
    "Show the hierarchy"
   ]
  },
  {
   "cell_type": "code",
   "execution_count": null,
   "id": "cf20a7bd",
   "metadata": {},
   "outputs": [],
   "source": [
    "for p in a.path():\n",
    "    print(repr(p))"
   ]
  }
 ],
 "metadata": {
  "kernelspec": {
   "display_name": "Python 3",
   "language": "python",
   "name": "python3"
  },
  "language_info": {
   "name": "python",
   "version": "3.11.11"
  }
 },
 "nbformat": 4,
 "nbformat_minor": 5
}
